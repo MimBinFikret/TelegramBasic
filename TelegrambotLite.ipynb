{
  "nbformat": 4,
  "nbformat_minor": 0,
  "metadata": {
    "colab": {
      "provenance": [],
      "gpuType": "T4",
      "authorship_tag": "ABX9TyOonUlyU0s8wh2UpGCL35II",
      "include_colab_link": true
    },
    "kernelspec": {
      "name": "python3",
      "display_name": "Python 3"
    },
    "language_info": {
      "name": "python"
    }
  },
  "cells": [
    {
      "cell_type": "markdown",
      "metadata": {
        "id": "view-in-github",
        "colab_type": "text"
      },
      "source": [
        "<a href=\"https://colab.research.google.com/github/MimBinFikret/TelegramBasic/blob/main/TelegrambotLite.ipynb\" target=\"_parent\"><img src=\"https://colab.research.google.com/assets/colab-badge.svg\" alt=\"Open In Colab\"/></a>"
      ]
    },
    {
      "cell_type": "code",
      "execution_count": null,
      "metadata": {
        "id": "wTkYQ5zCKRsh"
      },
      "outputs": [],
      "source": [
        "!pip install python-telegram-bot==13.13"
      ]
    },
    {
      "cell_type": "code",
      "source": [
        "from telegram import Update, InlineKeyboardMarkup, InlineKeyboardButton\n",
        "from telegram.ext import Updater, CommandHandler, CallbackQueryHandler\n",
        "\n",
        "import json"
      ],
      "metadata": {
        "id": "SM6v7CMuPGcx"
      },
      "execution_count": 2,
      "outputs": []
    },
    {
      "cell_type": "code",
      "source": [
        "# Paste your Telegram bot token here\n",
        "TOKEN = \"Your Telegram Bot Token: FAKSJFLAKSHFKJAHSŞDJASDKAJSD\""
      ],
      "metadata": {
        "id": "S9CfOpSRKZJl"
      },
      "execution_count": 3,
      "outputs": []
    },
    {
      "cell_type": "code",
      "source": [
        "# main menu command\n",
        "def start(update, context):\n",
        "  chat_id = update.effective_chat.id\n",
        "  user_id = update.effective_user.id\n",
        "\n",
        "  keyboard = [\n",
        "    [InlineKeyboardButton(\"Seçenek 1\", callback_data='option1')],\n",
        "    [InlineKeyboardButton(\"Seçenek 2\", callback_data='option2')],\n",
        "    [InlineKeyboardButton(\"Seçenek 3\", callback_data='option3')]\n",
        "  ]\n",
        "\n",
        "  reply_markup = InlineKeyboardMarkup(keyboard)\n",
        "\n",
        "  context.bot.send_message(chat_id=chat_id,\n",
        "                           text=\"Ana menü\",\n",
        "                           reply_markup=reply_markup)"
      ],
      "metadata": {
        "id": "wbQcx6hCntz3"
      },
      "execution_count": 4,
      "outputs": []
    },
    {
      "cell_type": "code",
      "source": [
        "# Button callback handler\n",
        "def button(update, context):\n",
        "  query = update.callback_query\n",
        "\n",
        "  if query.data == 'option1':\n",
        "    # Actions for option 1\n",
        "    context.bot.send_message(chat_id=query.message.chat_id,\n",
        "                             text=\"Option 1 selected!\")\n",
        "\n",
        "  elif query.data == 'option2':\n",
        "    # Actions for option 2\n",
        "    context.bot.send_message(chat_id=query.message.chat_id,\n",
        "                             text=\"Option 2 selected!\")\n",
        "\n",
        "  elif query.data == 'option3':\n",
        "    # Actions for option 3\n",
        "    context.bot.send_message(chat_id=query.message.chat_id,\n",
        "                             text=\"Option 3 selected!\")\n",
        "\n",
        "  else:\n",
        "    # For unknown callback data\n",
        "    context.bot.send_message(chat_id=query.message.chat_id,\n",
        "                             text=\"Invalid selected\")\n",
        "\n",
        "  query.answer()"
      ],
      "metadata": {
        "id": "j5cbzPf8l0RJ"
      },
      "execution_count": 5,
      "outputs": []
    },
    {
      "cell_type": "code",
      "source": [
        "def main():\n",
        "  updater = Updater(TOKEN)\n",
        "  dispatcher = updater.dispatcher\n",
        "\n",
        "  # Updater ve Dispatcher\n",
        "  dispatcher.add_handler(CommandHandler('start', start))\n",
        "\n",
        "  # Add button callback handler\n",
        "  dispatcher.add_handler(CallbackQueryHandler(button))\n",
        "\n",
        "  updater.start_polling()\n",
        "  updater.idle()\n",
        "\n",
        "if __name__ == '__main__':\n",
        "  main()"
      ],
      "metadata": {
        "id": "YpsjSubGnypB"
      },
      "execution_count": 7,
      "outputs": []
    }
  ]
}